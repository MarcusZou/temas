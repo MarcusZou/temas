{
 "cells": [
  {
   "attachments": {},
   "cell_type": "markdown",
   "id": "567cf2cd",
   "metadata": {},
   "source": [
    "# Earthquake in Turkey\n",
    "\n",
    " - Koeri dataset\n"
   ]
  },
  {
   "cell_type": "markdown",
   "id": "ca93b148",
   "metadata": {},
   "source": [
    "## Prep Libraries"
   ]
  },
  {
   "cell_type": "code",
   "execution_count": null,
   "id": "cf158b72",
   "metadata": {},
   "outputs": [],
   "source": [
    "# Load up libraries\n",
    "import pandas as pd\n",
    "import folium\n",
    "import datetime as dt\n",
    "import sqlite3\n",
    "\n",
    "print('Pandas: ', pd.__version__)\n",
    "print('Folium: ', folium.__version__)"
   ]
  },
  {
   "cell_type": "markdown",
   "id": "76c50006",
   "metadata": {},
   "source": [
    "## Historic Data Loading from the CSV file\n"
   ]
  },
  {
   "cell_type": "code",
   "execution_count": null,
   "id": "79aeaed3",
   "metadata": {},
   "outputs": [],
   "source": [
    "# Load u history data from csv file\n",
    "histDF = pd.read_csv(\"koeri.boun.edu.tr-lasteq-autosol_from_2023-01-16_tab.csv\", sep='\\t')\n",
    "histDF"
   ]
  },
  {
   "cell_type": "code",
   "execution_count": null,
   "id": "d67a23b8",
   "metadata": {},
   "outputs": [],
   "source": [
    "# Treatment of some data\n",
    "histDF['depth(km)'] = histDF['depth(km)'].replace('-', 0).astype(\"float\")\n",
    "histDF['depth(km)'] = histDF['depth(km)'].replace('E', 0).astype(\"float\")\n",
    "# Naming the columns\n",
    "histDF.columns = [\"origintimeutc\", \"magnitude\", \"magType\", \"latitude\", \"longitude\", \"depthKm\", \"region\", \"measMethod\", \"updTime\", \"attribute\"]\n",
    "# Reprting the depthKm column\n",
    "if len(histDF['origintimeutc']) == len(histDF['depthKm']):\n",
    "    print(\"All look good, proceed!\")\n",
    "else:\n",
    "    print(\"The depthKm column has some wrong data type, please investigate!\")"
   ]
  },
  {
   "cell_type": "code",
   "execution_count": null,
   "id": "e7ec247f",
   "metadata": {},
   "outputs": [],
   "source": [
    "# Sort the DF to be the format of: Older points on top prior to inserting into database\n",
    "histDF1 = histDF.sort_values(by='origintimeutc', ascending=True)\n",
    "histDF1.reset_index(drop=True, inplace=True)\n",
    "histDF1"
   ]
  },
  {
   "cell_type": "markdown",
   "id": "2eba6def",
   "metadata": {},
   "source": [
    "## Save Dataframe to a SQLite3 database"
   ]
  },
  {
   "cell_type": "code",
   "execution_count": null,
   "id": "133b6fa9",
   "metadata": {},
   "outputs": [],
   "source": [
    "# SAVE RESULTANT DF TO SQLITE3 DATABASE\n",
    "\n",
    "# Create sqlite database and cursor\n",
    "conn = sqlite3.connect('test.db')\n",
    "c = conn.cursor()\n",
    "# Create the table of quaketk\n",
    "c.execute(\"\"\"CREATE TABLE IF NOT EXISTS quaketk_koeri (\n",
    "            origintimeutc text,\n",
    "            magnitude real,\n",
    "            magtype text,\n",
    "            latitude real,\n",
    "            longitude real,\n",
    "            depthkm real,\n",
    "            region text,\n",
    "            measmethod text,\n",
    "            updtime text,\n",
    "            attribute text\n",
    "            )\"\"\")\n",
    "conn.commit()\n",
    "\n",
    "# test\n",
    "test = conn.execute('SELECT * from quaketk_koeri')\n",
    "names = [description[0] for description in test.description]\n",
    "print(names)"
   ]
  },
  {
   "cell_type": "code",
   "execution_count": null,
   "id": "3bd71ad7",
   "metadata": {},
   "outputs": [],
   "source": [
    "# Save the dataframe to database\n",
    "histDF.columns = ['origintimeutc', 'magnitude', 'magtype', 'latitude', 'longitude', 'depthkm', 'region', 'measmethod', 'updtime', 'attribute']\n",
    "histDF.to_sql('quaketk_koeri', conn, if_exists='append', index=False)\n",
    "\n",
    "# verify if the dataframe has been saved to sqlite DB or not, please uncomment the following command\n",
    "# conn.execute('SELECT * from quaketk').fetchall()"
   ]
  },
  {
   "cell_type": "markdown",
   "id": "3a00b7ba",
   "metadata": {},
   "source": [
    "## Retrieve the whole dataset and Display"
   ]
  },
  {
   "cell_type": "code",
   "execution_count": null,
   "id": "2238c011",
   "metadata": {},
   "outputs": [],
   "source": [
    "# Setup pandas display template\n",
    "\n",
    "pd.set_option('display.width', 800)\n",
    "pd.set_option('display.max_columns', 10)"
   ]
  },
  {
   "cell_type": "code",
   "execution_count": null,
   "id": "a28634c8",
   "metadata": {},
   "outputs": [],
   "source": [
    "# Read the Dataset from the database\n",
    "import sqlite3\n",
    "# Create a connection to the databse\n",
    "conn = sqlite3.connect('test.db')\n",
    "\n",
    "# Read out the whole dataset as dataframe\n",
    "df = pd.read_sql_query(\"SELECT * FROM quaketk_koeri\", conn)\n",
    "df"
   ]
  },
  {
   "cell_type": "code",
   "execution_count": null,
   "id": "6729a967",
   "metadata": {},
   "outputs": [],
   "source": [
    "print('Time Range of the Dataset is between:', df['origintimeutc'].min(), 'and', df['origintimeutc'].max())"
   ]
  },
  {
   "cell_type": "code",
   "execution_count": null,
   "id": "a8eb48ec",
   "metadata": {
    "scrolled": true
   },
   "outputs": [],
   "source": [
    "# Re-treatment of the dataset\n",
    "df['origintimeutc'] = df['origintimeutc'].apply(lambda x: dt.datetime.strptime(x,'%Y/%m/%d %H:%M:%S') if type(x)==str else pd.NaT)\n",
    "df['magnitude'] = df['magnitude'].astype('float')\n",
    "df['magtype'] = df['magtype'].astype('string')\n",
    "\n",
    "df['latitude'] = df['latitude'].astype(str).map(lambda x: x.rstrip('° N').rstrip('° S'))\n",
    "df['longitude'] = df['longitude'].astype(str).map(lambda x: x.rstrip('° E').rstrip('° W'))\n",
    "df['depthkm'] = df['depthkm'].replace('-', 0).astype(\"float\")\n",
    "\n",
    "df['region'] = df['region'].astype('string')\n",
    "df['measmethod'] = df['measmethod'].astype('string')\n",
    "df['updtime'] = df['updtime'].apply(lambda x: dt.datetime.strptime(x,'%Y/%m/%d %H:%M:%S') if type(x)==str else pd.NaT)\n",
    "df['attribute'] = df['attribute'].astype('string')\n",
    "\n",
    "# Adjust datetime from UTC (GMT) to Turkey timezone (GMT+3)\n",
    "df['eventtime'] = df['origintimeutc'] + pd.DateOffset(hours=3)\n",
    "df['updtime'] = df['updtime'] + pd.DateOffset(hours=3)\n",
    "\n",
    "# Create new columns for date and time\n",
    "df['date'] = pd.to_datetime(df['eventtime']).dt.date\n",
    "df['time'] = pd.to_datetime(df['eventtime']).dt.time\n",
    "\n",
    "# take a look\n",
    "df.head()\n"
   ]
  },
  {
   "cell_type": "code",
   "execution_count": null,
   "id": "763976b8",
   "metadata": {},
   "outputs": [],
   "source": [
    "df.columns"
   ]
  },
  {
   "cell_type": "code",
   "execution_count": null,
   "id": "d0a31190",
   "metadata": {},
   "outputs": [],
   "source": [
    "# Subset the df and rename the columns\n",
    "df2 = df[['date', 'time', 'latitude', 'longitude', 'depthkm', 'magnitude', 'magtype', 'region', 'measmethod', 'eventtime', 'updtime', 'attribute']]\n",
    "df2.head()\n",
    "# print the earthquake with magnitude >=4\n",
    "print(df2[df2['magnitude'].astype('float') >= 4])"
   ]
  },
  {
   "cell_type": "code",
   "execution_count": null,
   "id": "1c1ec5a7",
   "metadata": {},
   "outputs": [],
   "source": [
    "# Define our functions\n",
    "def addCircles(df, map):\n",
    "    for x, y, z, loc, date, time in zip(df['latitude'], df['longitude'], df['magnitude'], df['region'], df['date'], df['time']):\n",
    "        popUp = f\"<p style='text-align: center;'><span style='font-family: Verdana, Geneva, sans-serif; font-size: 12px; color: rgb(40, 50, 78);'><strong>Magnitude: {z} ML&nbsp;</strong></span></p>\" \\\n",
    "                f\"<p style='text-align: center;'><span style='font-family: Verdana, Geneva, sans-serif; font-size: 12px; color: rgb(40, 50, 78);'><strong>Location: {loc}</strong></span></p>\" \\\n",
    "                f\"<p style='text-align: center;'><span style='font-family: Verdana, Geneva, sans-serif; font-size: 12px; color: rgb(40, 50, 78);'><strong>Date: {date}</strong></span></p>\" \\\n",
    "                f\"<p style='text-align: center;'><span style='font-family: Verdana, Geneva, sans-serif; font-size: 12px; color: rgb(40, 50, 78);'><strong>Time: {time}</strong></span></p>\"\n",
    "        iframe = folium.IFrame(popUp, width=250, height=150)\n",
    "        popup = folium.Popup(iframe, max_width=450)\n",
    "        folium.CircleMarker(location=(x, y), radius=float(z) * 4, weight=2, opacity=1, popup=popup,\n",
    "                            color=\"red\", fill_color=\"red\", fill_opacity=0.1).add_to(map)"
   ]
  },
  {
   "cell_type": "code",
   "execution_count": null,
   "id": "6aabbd0b",
   "metadata": {
    "scrolled": true
   },
   "outputs": [],
   "source": [
    "# Setup initial map\n",
    "\n",
    "magThreshold = 5\n",
    "\n",
    "earthquakeMap = folium.Map(location=[39.16, 35.66], zoom_start=6, tiles=None)\n",
    "\n",
    "# Load up the polygon (in GeoJson format) around turkey\n",
    "# Original URL was - https://raw.githubusercontent.com/fraxen/tectonicplates/master/GeoJSON/PB2002_boundaries.json\n",
    "folium.GeoJson('../data/PB2002_boundaries.json', name=\"Tectonic Boundaries\").add_to(earthquakeMap)\n",
    "#folium.GeoJson('data/geoboundaries-TUR-ADM1_simplified.geojson', name=\"Turkey Provinces\").add_to(earthquakeMap)\n",
    "\n",
    "# Add tiles (The first tile will be the default)\n",
    "folium.TileLayer('Stamen Terrain', name='Terrian').add_to(earthquakeMap)\n",
    "folium.TileLayer('openstreetmap', name='Open Street').add_to(earthquakeMap)\n",
    "folium.TileLayer('Stamen Toner', name='Toner').add_to(earthquakeMap)\n",
    "folium.TileLayer('Stamen Water Color', name='Water Color').add_to(earthquakeMap)\n",
    "folium.TileLayer('cartodbdark_matter', name='Dark Matter').add_to(earthquakeMap)\n",
    "folium.LayerControl().add_to(earthquakeMap)\n",
    "\n",
    "# add Circles (sizing per magnitude)\n",
    "earthquakeDF = df2[df2['magnitude'].astype('float') >= magThreshold]\n",
    "addCircles(earthquakeDF, earthquakeMap)\n",
    "\n",
    "# Take a look at the map\n",
    "earthquakeMap\n"
   ]
  },
  {
   "cell_type": "markdown",
   "id": "dd9b5329",
   "metadata": {},
   "source": [
    "## The End"
   ]
  }
 ],
 "metadata": {
  "kernelspec": {
   "display_name": "Python 3 (ipykernel)",
   "language": "python",
   "name": "python3"
  },
  "language_info": {
   "codemirror_mode": {
    "name": "ipython",
    "version": 3
   },
   "file_extension": ".py",
   "mimetype": "text/x-python",
   "name": "python",
   "nbconvert_exporter": "python",
   "pygments_lexer": "ipython3",
   "version": "3.10.6"
  },
  "vscode": {
   "interpreter": {
    "hash": "d7e17b399900b383235e9fd26e7a153e6c4c8790701ed3e70443ac3efa33d234"
   }
  }
 },
 "nbformat": 4,
 "nbformat_minor": 5
}
